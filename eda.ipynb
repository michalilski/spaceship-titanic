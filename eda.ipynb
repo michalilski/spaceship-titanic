{
 "cells": [
  {
   "cell_type": "code",
   "execution_count": 3,
   "metadata": {},
   "outputs": [],
   "source": [
    "from pandas_profiling import ProfileReport\n",
    "import pandas as pd\n",
    "\n",
    "train_df = pd.read_csv(\"train.csv\")\n",
    "test_df = pd.read_csv(\"test.csv\")"
   ]
  },
  {
   "cell_type": "code",
   "execution_count": 4,
   "metadata": {},
   "outputs": [],
   "source": [
    "COLUMNS_TO_CATEGORICAL = [\n",
    "    \"HomePlanet\",\n",
    "    \"CryoSleep\",\n",
    "    \"Destination\",\n",
    "    \"VIP\",\n",
    "    \"CabinDeck\",\n",
    "    \"CabinSide\",\n",
    "]\n",
    "\n",
    "def preprocess_df(df, train=True):\n",
    "    df = df.apply(lambda x:x.fillna(x.value_counts().index[0]))\n",
    "\n",
    "    df[[\"CabinDeck\", \"CabinNum\", \"CabinSide\"]] = df[\"Cabin\"].apply(lambda x: x.split(\"/\")).tolist()\n",
    "    df = df.drop(\"Cabin\", axis=1)\n",
    "\n",
    "    df[[\"GroupId\", \"MemberId\"]] = df[\"PassengerId\"].apply(lambda x: [int(v) for v in x.split(\"_\")]).tolist()\n",
    "    df = df.drop(\"PassengerId\", axis=1)\n",
    "\n",
    "    to_cat = COLUMNS_TO_CATEGORICAL + [\"Transported\"] if train else COLUMNS_TO_CATEGORICAL\n",
    "    for col in to_cat:\n",
    "        df[col] = pd.factorize(df[col])[0]\n",
    "\n",
    "    return df\n",
    "\n",
    "preprocess_df(train_df).to_csv(\"train_processed.csv\", index=False)\n",
    "preprocess_df(test_df, train=False).to_csv(\"test_processed.csv\", index=False)"
   ]
  }
 ],
 "metadata": {
  "kernelspec": {
   "display_name": "sst",
   "language": "python",
   "name": "python3"
  },
  "language_info": {
   "codemirror_mode": {
    "name": "ipython",
    "version": 3
   },
   "file_extension": ".py",
   "mimetype": "text/x-python",
   "name": "python",
   "nbconvert_exporter": "python",
   "pygments_lexer": "ipython3",
   "version": "3.10.0"
  },
  "orig_nbformat": 4
 },
 "nbformat": 4,
 "nbformat_minor": 2
}
